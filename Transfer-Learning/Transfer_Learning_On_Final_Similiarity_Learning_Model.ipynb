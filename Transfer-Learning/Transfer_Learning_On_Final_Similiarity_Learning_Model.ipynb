{
  "nbformat": 4,
  "nbformat_minor": 0,
  "metadata": {
    "colab": {
      "name": "Transfer_Learning_On_Final_Similiarity_Learning_Model.ipynb",
      "provenance": [],
      "collapsed_sections": []
    },
    "kernelspec": {
      "name": "python3",
      "display_name": "Python 3"
    }
  },
  "cells": [
    {
      "cell_type": "code",
      "metadata": {
        "id": "XmuQZEVokSO7",
        "colab_type": "code",
        "outputId": "33d46142-cd5e-4aa2-f3c4-7597066d2e27",
        "colab": {
          "base_uri": "https://localhost:8080/",
          "height": 122
        }
      },
      "source": [
        "from google.colab import drive\n",
        "drive.mount('/content/drive')"
      ],
      "execution_count": 1,
      "outputs": [
        {
          "output_type": "stream",
          "text": [
            "Go to this URL in a browser: https://accounts.google.com/o/oauth2/auth?client_id=947318989803-6bn6qk8qdgf4n4g3pfee6491hc0brc4i.apps.googleusercontent.com&redirect_uri=urn%3aietf%3awg%3aoauth%3a2.0%3aoob&response_type=code&scope=email%20https%3a%2f%2fwww.googleapis.com%2fauth%2fdocs.test%20https%3a%2f%2fwww.googleapis.com%2fauth%2fdrive%20https%3a%2f%2fwww.googleapis.com%2fauth%2fdrive.photos.readonly%20https%3a%2f%2fwww.googleapis.com%2fauth%2fpeopleapi.readonly\n",
            "\n",
            "Enter your authorization code:\n",
            "··········\n",
            "Mounted at /content/drive\n"
          ],
          "name": "stdout"
        }
      ]
    },
    {
      "cell_type": "code",
      "metadata": {
        "id": "YwRMb8gCjJNx",
        "colab_type": "code",
        "outputId": "55cacad5-9173-420f-8151-80f714abcc51",
        "colab": {
          "base_uri": "https://localhost:8080/",
          "height": 80
        }
      },
      "source": [
        "import sys\n",
        "import numpy as np\n",
        "import imageio\n",
        "import os\n",
        "import matplotlib.pyplot as plt\n",
        "import tensorflow as tf\n",
        "import keras \n",
        "import cv2\n",
        "from sklearn.utils import shuffle\n",
        "from sklearn.model_selection import train_test_split"
      ],
      "execution_count": 2,
      "outputs": [
        {
          "output_type": "display_data",
          "data": {
            "text/html": [
              "<p style=\"color: red;\">\n",
              "The default version of TensorFlow in Colab will soon switch to TensorFlow 2.x.<br>\n",
              "We recommend you <a href=\"https://www.tensorflow.org/guide/migrate\" target=\"_blank\">upgrade</a> now \n",
              "or ensure your notebook will continue to use TensorFlow 1.x via the <code>%tensorflow_version 1.x</code> magic:\n",
              "<a href=\"https://colab.research.google.com/notebooks/tensorflow_version.ipynb\" target=\"_blank\">more info</a>.</p>\n"
            ],
            "text/plain": [
              "<IPython.core.display.HTML object>"
            ]
          },
          "metadata": {
            "tags": []
          }
        },
        {
          "output_type": "stream",
          "text": [
            "Using TensorFlow backend.\n"
          ],
          "name": "stderr"
        }
      ]
    },
    {
      "cell_type": "code",
      "metadata": {
        "id": "8ilO22HgjoFc",
        "colab_type": "code",
        "colab": {}
      },
      "source": [
        "import random\n",
        "random.seed(2) # Python\n",
        "np.random.seed(1) #numpy\n",
        "from tensorflow import set_random_seed\n",
        "set_random_seed(3) # Tensorflow"
      ],
      "execution_count": 0,
      "outputs": []
    },
    {
      "cell_type": "code",
      "metadata": {
        "id": "1eIdHDGyD0n7",
        "colab_type": "code",
        "colab": {}
      },
      "source": [
        "root_path = \"./drive/My Drive/\"\n",
        "train_path = os.path.join(root_path,'Dataset/training') \n",
        "validation_path = os.path.join(root_path,'Dataset/validation')\n",
        "model_save_path=os.path.join(root_path,'transfer_learning_siamese_model1.h5')"
      ],
      "execution_count": 0,
      "outputs": []
    },
    {
      "cell_type": "code",
      "metadata": {
        "id": "i-iVE9CSjsQK",
        "colab_type": "code",
        "colab": {}
      },
      "source": [
        "\n",
        "\n",
        "\n",
        "\n",
        "def load_image(path, n = 0):\n",
        "    X = []\n",
        "    \n",
        "    #Load every srud seperately and place that in one tensor\n",
        "    for student in os.listdir(path):\n",
        "#         print(\"Loading student: \" + student)\n",
        "        student_path = os.path.join(path, student)\n",
        "       \n",
        "        category_images = []\n",
        "            \n",
        "        if not os.path.isdir(student_path):\n",
        "                continue\n",
        "            \n",
        "            #Read evey image with in the directory\n",
        "        for filename in os.listdir(student_path):\n",
        "                image_path = os.path.join(student_path, filename)\n",
        "                image = imageio.imread(image_path)\n",
        "                width = 105\n",
        "                height = 105 # keep original height\n",
        "                dim = (height,width)\n",
        " \n",
        "                # resize image\n",
        "                image = cv2.resize(image, dim)\n",
        "                image=cv2.cvtColor(image, cv2.COLOR_RGB2GRAY)\n",
        "                image= np.expand_dims(image, axis=0)\n",
        "#                 print(image_path)\n",
        "                #Image preprocessing\n",
        "                image = image/255\n",
        "                image = 1 - image\n",
        "                \n",
        "                X.append(image)\n",
        "                \n",
        "        \n",
        "    X = np.stack(X)\n",
        "    return X"
      ],
      "execution_count": 0,
      "outputs": []
    },
    {
      "cell_type": "markdown",
      "metadata": {
        "id": "p1XPY1NDwZQ4",
        "colab_type": "text"
      },
      "source": [
        ""
      ]
    },
    {
      "cell_type": "code",
      "metadata": {
        "id": "HiVe4riutJia",
        "colab_type": "code",
        "outputId": "09d767e8-fdb3-4e6d-aed1-093e96b31b37",
        "colab": {
          "base_uri": "https://localhost:8080/",
          "height": 51
        }
      },
      "source": [
        "print(\"Loading Training Set\")\n",
        "X = load_image(train_path)\n",
        "print(X.shape)"
      ],
      "execution_count": 5,
      "outputs": [
        {
          "output_type": "stream",
          "text": [
            "Loading Training Set\n",
            "(1470, 1, 105, 105)\n"
          ],
          "name": "stdout"
        }
      ]
    },
    {
      "cell_type": "code",
      "metadata": {
        "id": "SDx2NkDEtbtp",
        "colab_type": "code",
        "outputId": "ab92e451-ddfd-4f0f-e730-266a09503c84",
        "colab": {
          "base_uri": "https://localhost:8080/",
          "height": 51
        }
      },
      "source": [
        "print(\"Now loading evaluation set\")\n",
        "Y = load_image(validation_path)\n",
        "print(Y.shape)"
      ],
      "execution_count": 6,
      "outputs": [
        {
          "output_type": "stream",
          "text": [
            "Now loading evaluation set\n",
            "(646, 1, 105, 105)\n"
          ],
          "name": "stdout"
        }
      ]
    },
    {
      "cell_type": "code",
      "metadata": {
        "colab_type": "code",
        "id": "yiv976xH7OnZ",
        "colab": {}
      },
      "source": [
        "x_train ,x_test = train_test_split(X, test_size=.20)"
      ],
      "execution_count": 0,
      "outputs": []
    },
    {
      "cell_type": "code",
      "metadata": {
        "colab_type": "code",
        "id": "Fz0eLkyr7OV9",
        "colab": {}
      },
      "source": [
        " y_train,y_test = train_test_split(Y, test_size=.20)"
      ],
      "execution_count": 0,
      "outputs": []
    },
    {
      "cell_type": "code",
      "metadata": {
        "colab_type": "code",
        "id": "LvzrD4_u7OOk",
        "colab": {}
      },
      "source": [
        "def get_batch(data, batch_size):\n",
        "    n_classes, n_examples, h, w = data.shape\n",
        "    \n",
        "    pairs = [np.zeros((batch_size, 1, h, w)) for i in range(2)]\n",
        "    \n",
        "    targets = np.zeros((batch_size,))\n",
        "    targets[batch_size//2:] = 1\n",
        "    \n",
        "    categories = np.random.choice(n_classes, size = (batch_size), replace = False)\n",
        "    \n",
        "    for i in range(batch_size):\n",
        "        category = categories[i]\n",
        "        \n",
        "        idx1 = np.random.randint(0, n_examples)\n",
        "        pairs[0][i,:,:,:] = data[category, idx1].reshape(1, h,w)\n",
        "        idx2 = np.random.randint(0, n_examples)\n",
        "        \n",
        "        if targets[i] == 0:\n",
        "            category_2 = category\n",
        "        else:\n",
        "            category_2 = (category + np.random.randint(1, n_classes)) % n_classes\n",
        " \n",
        "        \n",
        "        pairs[1][i,:,:,:] = data[category_2, idx2].reshape(1, h, w)\n",
        "        \n",
        "    return pairs, targets\n",
        "        \n",
        "\n"
      ],
      "execution_count": 0,
      "outputs": []
    },
    {
      "cell_type": "code",
      "metadata": {
        "colab_type": "code",
        "id": "gZYIb6Opj6vu",
        "colab": {}
      },
      "source": [
        "def generate(data,batch_size):\n",
        "        \"\"\"a generator for batches, so model.fit_generator can be used. \"\"\"\n",
        "        while True:\n",
        "            pairs, targets = get_batch(X,batch_size)\n",
        "            yield (pairs, targets)    \n",
        "\n",
        "\n",
        " "
      ],
      "execution_count": 0,
      "outputs": []
    },
    {
      "cell_type": "code",
      "metadata": {
        "id": "hQo6r5PdW9bG",
        "colab_type": "code",
        "colab": {}
      },
      "source": [
        "def make_oneshot_task(N,data,language=None):\n",
        "        \"\"\"Create pairs of test image, support set for testing N way one-shot learning. \"\"\"\n",
        "        n_classes, n_examples, w, h = data.shape\n",
        "        indices = np.random.randint(0,n_examples,size=(N,))\n",
        "        categories = np.random.choice(range(n_classes),size=(N,),replace=False)            \n",
        "        true_category = categories[0]\n",
        "        ex1 = np.random.randint(0, n_examples)\n",
        "        ex2 = np.random.randint(0, n_examples)\n",
        "        # ex1, ex2 = np.random.choice(n_examples,replace=False,size=(0,))\n",
        "        test_image = np.asarray([data[true_category,ex1,:,:]]*N).reshape(N, 1, w,h)\n",
        "        support_set = data[categories,indices,:,:]\n",
        "        support_set[0,:,:] = data[true_category,ex2]\n",
        "        support_set = support_set.reshape(N, 1, w,h)\n",
        "        targets = np.zeros((N,))\n",
        "        targets[0] = 1\n",
        "        targets, test_image, support_set = shuffle(targets, test_image, support_set)\n",
        "        pairs = [test_image,support_set]\n",
        "\n",
        "        return pairs, targets\n",
        "    \n",
        "\n",
        "                   "
      ],
      "execution_count": 0,
      "outputs": []
    },
    {
      "cell_type": "code",
      "metadata": {
        "id": "BveJBYSGXBSM",
        "colab_type": "code",
        "colab": {}
      },
      "source": [
        "def test_oneshot(model,N,k,data,verbose=0):\n",
        "        \"\"\"Test average N way oneshot learning accuracy of a siamese neural net over k one-shot tasks\"\"\"\n",
        "        n_correct = 0\n",
        "        if verbose:\n",
        "            print(\"Evaluating model on {} random {} way one-shot learning tasks ...\".format(k,N))\n",
        "        for i in range(k):\n",
        "            inputs, targets = make_oneshot_task(N,data)\n",
        "            probs = model.predict(inputs)\n",
        "            if np.argmax(probs) == np.argmax(targets):\n",
        "                n_correct+=1\n",
        "        percent_correct = (100.0*n_correct / k)\n",
        "        if verbose:\n",
        "            print(\"Got an average of {}% {} way one-shot learning accuracy\".format(percent_correct,N))\n",
        "        return percent_correct\n",
        "    \n"
      ],
      "execution_count": 0,
      "outputs": []
    },
    {
      "cell_type": "code",
      "metadata": {
        "id": "6G7OVaeFXD8M",
        "colab_type": "code",
        "colab": {}
      },
      "source": [
        "def train(model, epochs, verbosity):\n",
        "        model.fit_generator(self.generate(batch_size),)"
      ],
      "execution_count": 0,
      "outputs": []
    },
    {
      "cell_type": "code",
      "metadata": {
        "id": "qHye1P61Kwgt",
        "colab_type": "code",
        "colab": {}
      },
      "source": [
        "from keras.models import Model, load_model,Sequential\n",
        "from keras.layers import Conv2D, MaxPooling2D, Flatten, Dropout, Dense, Input, Lambda\n",
        "from keras.layers.core import Lambda, RepeatVector, Reshape\n",
        "from keras.layers.merge import concatenate\n",
        "from keras.optimizers import Adam\n",
        "from keras.regularizers import l2\n",
        "\n",
        "from keras import backend as K\n",
        "from keras.models import Model, load_model, Sequential\n",
        "from keras.layers import Input, Activation\n",
        "from keras.layers.core import Lambda, RepeatVector, Reshape\n",
        "from keras.layers.convolutional import Conv2D, Conv2DTranspose\n",
        "from keras.layers.pooling import MaxPooling2D\n",
        "from keras.layers.merge import concatenate\n",
        "from keras.callbacks import EarlyStopping, ModelCheckpoint, ReduceLROnPlateau\n",
        "from keras import backend as K\n",
        "import time\n",
        "from keras.optimizers import RMSprop\n",
        "import pickle"
      ],
      "execution_count": 0,
      "outputs": []
    },
    {
      "cell_type": "code",
      "metadata": {
        "id": "RfVvRxHicLjo",
        "colab_type": "code",
        "colab": {}
      },
      "source": [
        "def build_base_network(input_shape):\n",
        "    \n",
        "    seq = Sequential()\n",
        "    \n",
        "    nb_filter = [6, 12]\n",
        "    kernel_size = 3\n",
        "    \n",
        "    \n",
        "    #convolutional layer 1\n",
        "    seq.add(Conv2D(nb_filter[0], kernel_size, kernel_size, input_shape=input_shape,\n",
        "                          border_mode='valid', dim_ordering='th'))\n",
        "    seq.add(Activation('relu'))\n",
        "    seq.add(MaxPooling2D(pool_size=(2, 2))) \n",
        "    seq.add(Dropout(.25))\n",
        "    \n",
        "    #convolutional layer 2\n",
        "    seq.add(Conv2D(nb_filter[1], kernel_size, kernel_size, border_mode='valid', dim_ordering='th'))\n",
        "    seq.add(Activation('relu'))\n",
        "    seq.add(MaxPooling2D(pool_size=(2, 2), dim_ordering='th')) \n",
        "    seq.add(Dropout(.25))\n",
        "\n",
        "    #flatten \n",
        "    seq.add(Flatten())\n",
        "    seq.add(Dense(128, activation='relu'))\n",
        "    seq.add(Dropout(0.1))\n",
        "    seq.add(Dense(50, activation='relu'))\n",
        "    return seq"
      ],
      "execution_count": 0,
      "outputs": []
    },
    {
      "cell_type": "code",
      "metadata": {
        "id": "LB_F4h-QK4k0",
        "colab_type": "code",
        "colab": {}
      },
      "source": [
        "#Contrastive Loss\n",
        "def euclid_dist(input_pair):\n",
        "    x, y = input_pair\n",
        "    distance = K.sqrt(K.maximum(K.sum(K.square(x - y), axis=1, keepdims=True), K.epsilon()))\n",
        "    return distance\n",
        "\n",
        "def euclid_dist_shape(shapes):\n",
        "    shape1, shape2 = shapes\n",
        "    return (shape1[0],1)\n",
        "\n",
        "def contrastive_loss(y_true, y_pred):\n",
        "    margin = 1\n",
        "    y_true = -1 * y_true + 1\n",
        "    return K.mean((1-y_true) * K.square(y_pred) + y_true *  K.square(K.maximum(margin - y_pred, 0.0)))\n",
        "\n",
        "def acc(y_true, y_pred):\n",
        "    ones = K.ones_like(y_pred)\n",
        "    return K.mean(K.equal(y_true, ones - K.clip(K.round(y_pred), 0, 1)), axis=-1)\n",
        "\n"
      ],
      "execution_count": 0,
      "outputs": []
    },
    {
      "cell_type": "code",
      "metadata": {
        "id": "BLQRUIh2CDMR",
        "colab_type": "code",
        "colab": {}
      },
      "source": [
        "INIT_WEIGHTS = os.path.join(root_path, 'init_weights.hdf5')\n",
        "CHECKPOINTED_WEIGHTS = os.path.join(root_path, 'checkpointed_weights.hdf5')"
      ],
      "execution_count": 0,
      "outputs": []
    },
    {
      "cell_type": "code",
      "metadata": {
        "id": "YauQrMLJzoeC",
        "colab_type": "code",
        "outputId": "b9f6ecd5-2ebc-4066-bbfa-3fcc73ff8e34",
        "colab": {
          "base_uri": "https://localhost:8080/",
          "height": 530
        }
      },
      "source": [
        "input_dim =(x_train.shape[1:])\n",
        "base_network = build_base_network(input_dim)\n",
        "# print(input_dim)\n",
        "img_a = Input(shape=input_dim)\n",
        "img_b = Input(shape=input_dim)\n",
        "\n",
        "# print(base_network)\n",
        "feat_vecs_a = base_network(img_a)\n",
        "feat_vecs_b = base_network(img_b)\n",
        "\n",
        "distance = Lambda(euclid_dist, output_shape=euclid_dist_shape)([feat_vecs_a, feat_vecs_b])\n",
        "prediction = Dense(1, activation='sigmoid')(distance)\n"
      ],
      "execution_count": 18,
      "outputs": [
        {
          "output_type": "stream",
          "text": [
            "WARNING:tensorflow:From /usr/local/lib/python3.6/dist-packages/keras/backend/tensorflow_backend.py:66: The name tf.get_default_graph is deprecated. Please use tf.compat.v1.get_default_graph instead.\n",
            "\n",
            "WARNING:tensorflow:From /usr/local/lib/python3.6/dist-packages/keras/backend/tensorflow_backend.py:541: The name tf.placeholder is deprecated. Please use tf.compat.v1.placeholder instead.\n",
            "\n",
            "WARNING:tensorflow:From /usr/local/lib/python3.6/dist-packages/keras/backend/tensorflow_backend.py:4432: The name tf.random_uniform is deprecated. Please use tf.random.uniform instead.\n",
            "\n",
            "WARNING:tensorflow:From /usr/local/lib/python3.6/dist-packages/keras/backend/tensorflow_backend.py:190: The name tf.get_default_session is deprecated. Please use tf.compat.v1.get_default_session instead.\n",
            "\n",
            "WARNING:tensorflow:From /usr/local/lib/python3.6/dist-packages/keras/backend/tensorflow_backend.py:197: The name tf.ConfigProto is deprecated. Please use tf.compat.v1.ConfigProto instead.\n",
            "\n",
            "WARNING:tensorflow:From /usr/local/lib/python3.6/dist-packages/keras/backend/tensorflow_backend.py:203: The name tf.Session is deprecated. Please use tf.compat.v1.Session instead.\n",
            "\n"
          ],
          "name": "stdout"
        },
        {
          "output_type": "stream",
          "text": [
            "/usr/local/lib/python3.6/dist-packages/ipykernel_launcher.py:11: UserWarning: Update your `Conv2D` call to the Keras 2 API: `Conv2D(6, (3, 3), input_shape=(1, 105, 1..., padding=\"valid\", data_format=\"channels_first\")`\n",
            "  # This is added back by InteractiveShellApp.init_path()\n"
          ],
          "name": "stderr"
        },
        {
          "output_type": "stream",
          "text": [
            "WARNING:tensorflow:From /usr/local/lib/python3.6/dist-packages/keras/backend/tensorflow_backend.py:207: The name tf.global_variables is deprecated. Please use tf.compat.v1.global_variables instead.\n",
            "\n",
            "WARNING:tensorflow:From /usr/local/lib/python3.6/dist-packages/keras/backend/tensorflow_backend.py:216: The name tf.is_variable_initialized is deprecated. Please use tf.compat.v1.is_variable_initialized instead.\n",
            "\n",
            "WARNING:tensorflow:From /usr/local/lib/python3.6/dist-packages/keras/backend/tensorflow_backend.py:223: The name tf.variables_initializer is deprecated. Please use tf.compat.v1.variables_initializer instead.\n",
            "\n",
            "WARNING:tensorflow:From /usr/local/lib/python3.6/dist-packages/keras/backend/tensorflow_backend.py:4267: The name tf.nn.max_pool is deprecated. Please use tf.nn.max_pool2d instead.\n",
            "\n",
            "WARNING:tensorflow:From /usr/local/lib/python3.6/dist-packages/keras/backend/tensorflow_backend.py:148: The name tf.placeholder_with_default is deprecated. Please use tf.compat.v1.placeholder_with_default instead.\n",
            "\n",
            "WARNING:tensorflow:From /usr/local/lib/python3.6/dist-packages/keras/backend/tensorflow_backend.py:3733: calling dropout (from tensorflow.python.ops.nn_ops) with keep_prob is deprecated and will be removed in a future version.\n",
            "Instructions for updating:\n",
            "Please use `rate` instead of `keep_prob`. Rate should be set to `rate = 1 - keep_prob`.\n"
          ],
          "name": "stdout"
        },
        {
          "output_type": "stream",
          "text": [
            "/usr/local/lib/python3.6/dist-packages/ipykernel_launcher.py:17: UserWarning: Update your `Conv2D` call to the Keras 2 API: `Conv2D(12, (3, 3), padding=\"valid\", data_format=\"channels_first\")`\n",
            "/usr/local/lib/python3.6/dist-packages/ipykernel_launcher.py:19: UserWarning: Update your `MaxPooling2D` call to the Keras 2 API: `MaxPooling2D(pool_size=(2, 2), data_format=\"channels_first\")`\n"
          ],
          "name": "stderr"
        }
      ]
    },
    {
      "cell_type": "code",
      "metadata": {
        "colab_type": "code",
        "outputId": "77441960-6798-4a75-bf72-7dde17392938",
        "id": "xrD932G07-n7",
        "colab": {
          "base_uri": "https://localhost:8080/",
          "height": 411
        }
      },
      "source": [
        "\n",
        "siamese = Model(inputs=[img_a, img_b], outputs=prediction)\n",
        "    \n",
        "optimizer = Adam(lr = 0.00006)\n",
        "    \n",
        "siamese.compile(loss=contrastive_loss, optimizer=optimizer, metrics=[acc])\n",
        "\n",
        "siamese.summary()\n",
        "os.system(\"rm {}\".format(INIT_WEIGHTS))\n",
        "siamese.save_weights(INIT_WEIGHTS)"
      ],
      "execution_count": 19,
      "outputs": [
        {
          "output_type": "stream",
          "text": [
            "WARNING:tensorflow:From /usr/local/lib/python3.6/dist-packages/keras/optimizers.py:793: The name tf.train.Optimizer is deprecated. Please use tf.compat.v1.train.Optimizer instead.\n",
            "\n",
            "Model: \"model_1\"\n",
            "__________________________________________________________________________________________________\n",
            "Layer (type)                    Output Shape         Param #     Connected to                     \n",
            "==================================================================================================\n",
            "input_1 (InputLayer)            (None, 1, 105, 105)  0                                            \n",
            "__________________________________________________________________________________________________\n",
            "input_2 (InputLayer)            (None, 1, 105, 105)  0                                            \n",
            "__________________________________________________________________________________________________\n",
            "sequential_1 (Sequential)       (None, 50)           1850174     input_1[0][0]                    \n",
            "                                                                 input_2[0][0]                    \n",
            "__________________________________________________________________________________________________\n",
            "lambda_1 (Lambda)               (None, 1)            0           sequential_1[1][0]               \n",
            "                                                                 sequential_1[2][0]               \n",
            "__________________________________________________________________________________________________\n",
            "dense_3 (Dense)                 (None, 1)            2           lambda_1[0][0]                   \n",
            "==================================================================================================\n",
            "Total params: 1,850,176\n",
            "Trainable params: 1,850,176\n",
            "Non-trainable params: 0\n",
            "__________________________________________________________________________________________________\n"
          ],
          "name": "stdout"
        }
      ]
    },
    {
      "cell_type": "code",
      "metadata": {
        "id": "DCODHWVjRJs4",
        "colab_type": "code",
        "outputId": "ed3a76f1-91f6-447c-a5be-26328d2e8f85",
        "colab": {
          "base_uri": "https://localhost:8080/",
          "height": 1000
        }
      },
      "source": [
        "#Training loop\n",
        "print(\"!\")\n",
        "evaluate_every = 1 # interval for evaluating on one-shot tasks\n",
        "loss_every=1 # interval for printing loss (iterations)\n",
        "batch_size = 32\n",
        "n_iter = 100\n",
        "N_way = 20 # how many classes for testing one-shot tasks>\n",
        "n_val = 30 #how mahy one-shot tasks to validate on?\n",
        "best = -1\n",
        "data_path = \"./drive/My Drive/\"\n",
        "weights_path= CHECKPOINTED_WEIGHTS\n",
        "print(\"Starting training process!\")\n",
        "print(\"-------------------------------------\")\n",
        "t_start = time.time()\n",
        "for i in range(1, n_iter):\n",
        "    (inputs,targets)=get_batch(x_train,batch_size)\n",
        "    loss=siamese.train_on_batch(inputs,targets)\n",
        "    print(loss)\n",
        "    if i % evaluate_every == 0:\n",
        "        print(\"Time for {0} iterations: {1}\".format(i, time.time()-t_start))\n",
        "        val_acc = test_oneshot(siamese,N_way,n_val,y_train,verbose=True)\n",
        "        if val_acc >= best:\n",
        "            # print(\"Current best: {0}, previous best: {1}\".format(x_test, best))\n",
        "            print(\"Saving weights to: {0} \\n\".format(weights_path))\n",
        "            siamese.save(weights_path)\n",
        "            best=val_acc\n",
        "\n",
        "    if i % loss_every == 0:\n",
        "        print(\"iteration {}, training loss: {},\".format(i,loss))\n"
      ],
      "execution_count": 20,
      "outputs": [
        {
          "output_type": "stream",
          "text": [
            "!\n",
            "Starting training process!\n",
            "-------------------------------------\n",
            "WARNING:tensorflow:From /usr/local/lib/python3.6/dist-packages/tensorflow_core/python/ops/math_grad.py:1424: where (from tensorflow.python.ops.array_ops) is deprecated and will be removed in a future version.\n",
            "Instructions for updating:\n",
            "Use tf.where in 2.0, which has the same broadcast rule as np.where\n",
            "WARNING:tensorflow:From /usr/local/lib/python3.6/dist-packages/keras/backend/tensorflow_backend.py:1033: The name tf.assign_add is deprecated. Please use tf.compat.v1.assign_add instead.\n",
            "\n",
            "WARNING:tensorflow:From /usr/local/lib/python3.6/dist-packages/keras/backend/tensorflow_backend.py:1020: The name tf.assign is deprecated. Please use tf.compat.v1.assign instead.\n",
            "\n",
            "[0.2941236, 0.5]\n",
            "Time for 1 iterations: 2.2377865314483643\n",
            "Evaluating model on 30 random 20 way one-shot learning tasks ...\n",
            "Got an average of 100.0% 20 way one-shot learning accuracy\n",
            "Saving weights to: ./drive/My Drive/checkpointed_weights.hdf5 \n",
            "\n",
            "iteration 1, training loss: [0.2941236, 0.5],\n",
            "[0.28930834, 0.5]\n",
            "Time for 2 iterations: 7.949418783187866\n",
            "Evaluating model on 30 random 20 way one-shot learning tasks ...\n",
            "Got an average of 100.0% 20 way one-shot learning accuracy\n",
            "Saving weights to: ./drive/My Drive/checkpointed_weights.hdf5 \n",
            "\n",
            "iteration 2, training loss: [0.28930834, 0.5],\n",
            "[0.28583717, 0.5]\n",
            "Time for 3 iterations: 12.586270570755005\n",
            "Evaluating model on 30 random 20 way one-shot learning tasks ...\n",
            "Got an average of 100.0% 20 way one-shot learning accuracy\n",
            "Saving weights to: ./drive/My Drive/checkpointed_weights.hdf5 \n",
            "\n",
            "iteration 3, training loss: [0.28583717, 0.5],\n",
            "[0.2781477, 0.5]\n",
            "Time for 4 iterations: 17.34167504310608\n",
            "Evaluating model on 30 random 20 way one-shot learning tasks ...\n",
            "Got an average of 100.0% 20 way one-shot learning accuracy\n",
            "Saving weights to: ./drive/My Drive/checkpointed_weights.hdf5 \n",
            "\n",
            "iteration 4, training loss: [0.2781477, 0.5],\n",
            "[0.2873766, 0.5]\n",
            "Time for 5 iterations: 22.042459964752197\n",
            "Evaluating model on 30 random 20 way one-shot learning tasks ...\n",
            "Got an average of 93.33333333333333% 20 way one-shot learning accuracy\n",
            "iteration 5, training loss: [0.2873766, 0.5],\n",
            "[0.2698065, 0.5]\n",
            "Time for 6 iterations: 26.499327898025513\n",
            "Evaluating model on 30 random 20 way one-shot learning tasks ...\n",
            "Got an average of 96.66666666666667% 20 way one-shot learning accuracy\n",
            "iteration 6, training loss: [0.2698065, 0.5],\n",
            "[0.26851147, 0.5]\n",
            "Time for 7 iterations: 30.98151922225952\n",
            "Evaluating model on 30 random 20 way one-shot learning tasks ...\n",
            "Got an average of 100.0% 20 way one-shot learning accuracy\n",
            "Saving weights to: ./drive/My Drive/checkpointed_weights.hdf5 \n",
            "\n",
            "iteration 7, training loss: [0.26851147, 0.5],\n",
            "[0.26867777, 0.5]\n",
            "Time for 8 iterations: 35.95899820327759\n",
            "Evaluating model on 30 random 20 way one-shot learning tasks ...\n",
            "Got an average of 100.0% 20 way one-shot learning accuracy\n",
            "Saving weights to: ./drive/My Drive/checkpointed_weights.hdf5 \n",
            "\n",
            "iteration 8, training loss: [0.26867777, 0.5],\n",
            "[0.27296862, 0.5]\n",
            "Time for 9 iterations: 40.5760543346405\n",
            "Evaluating model on 30 random 20 way one-shot learning tasks ...\n",
            "Got an average of 96.66666666666667% 20 way one-shot learning accuracy\n",
            "iteration 9, training loss: [0.27296862, 0.5],\n",
            "[0.25965482, 0.5]\n",
            "Time for 10 iterations: 45.07261824607849\n",
            "Evaluating model on 30 random 20 way one-shot learning tasks ...\n",
            "Got an average of 100.0% 20 way one-shot learning accuracy\n",
            "Saving weights to: ./drive/My Drive/checkpointed_weights.hdf5 \n",
            "\n",
            "iteration 10, training loss: [0.25965482, 0.5],\n",
            "[0.26914582, 0.5]\n",
            "Time for 11 iterations: 49.76560091972351\n",
            "Evaluating model on 30 random 20 way one-shot learning tasks ...\n",
            "Got an average of 96.66666666666667% 20 way one-shot learning accuracy\n",
            "iteration 11, training loss: [0.26914582, 0.5],\n",
            "[0.2589344, 0.5]\n",
            "Time for 12 iterations: 54.2414813041687\n",
            "Evaluating model on 30 random 20 way one-shot learning tasks ...\n",
            "Got an average of 100.0% 20 way one-shot learning accuracy\n",
            "Saving weights to: ./drive/My Drive/checkpointed_weights.hdf5 \n",
            "\n",
            "iteration 12, training loss: [0.2589344, 0.5],\n",
            "[0.26195264, 0.5]\n",
            "Time for 13 iterations: 58.86661148071289\n",
            "Evaluating model on 30 random 20 way one-shot learning tasks ...\n",
            "Got an average of 96.66666666666667% 20 way one-shot learning accuracy\n",
            "iteration 13, training loss: [0.26195264, 0.5],\n",
            "[0.25573897, 0.5]\n",
            "Time for 14 iterations: 63.284534215927124\n",
            "Evaluating model on 30 random 20 way one-shot learning tasks ...\n",
            "Got an average of 100.0% 20 way one-shot learning accuracy\n",
            "Saving weights to: ./drive/My Drive/checkpointed_weights.hdf5 \n",
            "\n",
            "iteration 14, training loss: [0.25573897, 0.5],\n",
            "[0.2411592, 0.5]\n",
            "Time for 15 iterations: 68.06711006164551\n",
            "Evaluating model on 30 random 20 way one-shot learning tasks ...\n",
            "Got an average of 100.0% 20 way one-shot learning accuracy\n",
            "Saving weights to: ./drive/My Drive/checkpointed_weights.hdf5 \n",
            "\n",
            "iteration 15, training loss: [0.2411592, 0.5],\n",
            "[0.25608438, 0.5]\n",
            "Time for 16 iterations: 72.62543892860413\n",
            "Evaluating model on 30 random 20 way one-shot learning tasks ...\n",
            "Got an average of 100.0% 20 way one-shot learning accuracy\n",
            "Saving weights to: ./drive/My Drive/checkpointed_weights.hdf5 \n",
            "\n",
            "iteration 16, training loss: [0.25608438, 0.5],\n",
            "[0.25514236, 0.5]\n",
            "Time for 17 iterations: 77.22838735580444\n",
            "Evaluating model on 30 random 20 way one-shot learning tasks ...\n",
            "Got an average of 100.0% 20 way one-shot learning accuracy\n",
            "Saving weights to: ./drive/My Drive/checkpointed_weights.hdf5 \n",
            "\n",
            "iteration 17, training loss: [0.25514236, 0.5],\n",
            "[0.26216313, 0.5]\n",
            "Time for 18 iterations: 81.94893455505371\n",
            "Evaluating model on 30 random 20 way one-shot learning tasks ...\n",
            "Got an average of 96.66666666666667% 20 way one-shot learning accuracy\n",
            "iteration 18, training loss: [0.26216313, 0.5],\n",
            "[0.25261506, 0.5]\n",
            "Time for 19 iterations: 86.54437565803528\n",
            "Evaluating model on 30 random 20 way one-shot learning tasks ...\n",
            "Got an average of 100.0% 20 way one-shot learning accuracy\n",
            "Saving weights to: ./drive/My Drive/checkpointed_weights.hdf5 \n",
            "\n",
            "iteration 19, training loss: [0.25261506, 0.5],\n",
            "[0.24670686, 0.5]\n",
            "Time for 20 iterations: 91.6409420967102\n",
            "Evaluating model on 30 random 20 way one-shot learning tasks ...\n",
            "Got an average of 100.0% 20 way one-shot learning accuracy\n",
            "Saving weights to: ./drive/My Drive/checkpointed_weights.hdf5 \n",
            "\n",
            "iteration 20, training loss: [0.24670686, 0.5],\n",
            "[0.25745195, 0.5]\n",
            "Time for 21 iterations: 96.27728128433228\n",
            "Evaluating model on 30 random 20 way one-shot learning tasks ...\n",
            "Got an average of 100.0% 20 way one-shot learning accuracy\n",
            "Saving weights to: ./drive/My Drive/checkpointed_weights.hdf5 \n",
            "\n",
            "iteration 21, training loss: [0.25745195, 0.5],\n",
            "[0.26364213, 0.5]\n",
            "Time for 22 iterations: 100.84819960594177\n",
            "Evaluating model on 30 random 20 way one-shot learning tasks ...\n",
            "Got an average of 93.33333333333333% 20 way one-shot learning accuracy\n",
            "iteration 22, training loss: [0.26364213, 0.5],\n",
            "[0.25506046, 0.5]\n",
            "Time for 23 iterations: 105.29638266563416\n",
            "Evaluating model on 30 random 20 way one-shot learning tasks ...\n",
            "Got an average of 100.0% 20 way one-shot learning accuracy\n",
            "Saving weights to: ./drive/My Drive/checkpointed_weights.hdf5 \n",
            "\n",
            "iteration 23, training loss: [0.25506046, 0.5],\n",
            "[0.24440488, 0.5]\n",
            "Time for 24 iterations: 110.37642025947571\n",
            "Evaluating model on 30 random 20 way one-shot learning tasks ...\n",
            "Got an average of 96.66666666666667% 20 way one-shot learning accuracy\n",
            "iteration 24, training loss: [0.24440488, 0.5],\n",
            "[0.25179017, 0.5]\n",
            "Time for 25 iterations: 114.83210802078247\n",
            "Evaluating model on 30 random 20 way one-shot learning tasks ...\n",
            "Got an average of 96.66666666666667% 20 way one-shot learning accuracy\n",
            "iteration 25, training loss: [0.25179017, 0.5],\n",
            "[0.255945, 0.5]\n",
            "Time for 26 iterations: 119.30953025817871\n",
            "Evaluating model on 30 random 20 way one-shot learning tasks ...\n",
            "Got an average of 100.0% 20 way one-shot learning accuracy\n",
            "Saving weights to: ./drive/My Drive/checkpointed_weights.hdf5 \n",
            "\n",
            "iteration 26, training loss: [0.255945, 0.5],\n",
            "[0.24778022, 0.5]\n",
            "Time for 27 iterations: 124.54889726638794\n",
            "Evaluating model on 30 random 20 way one-shot learning tasks ...\n",
            "Got an average of 100.0% 20 way one-shot learning accuracy\n",
            "Saving weights to: ./drive/My Drive/checkpointed_weights.hdf5 \n",
            "\n",
            "iteration 27, training loss: [0.24778022, 0.5],\n",
            "[0.25207764, 0.5]\n",
            "Time for 28 iterations: 129.11684441566467\n",
            "Evaluating model on 30 random 20 way one-shot learning tasks ...\n",
            "Got an average of 96.66666666666667% 20 way one-shot learning accuracy\n",
            "iteration 28, training loss: [0.25207764, 0.5],\n",
            "[0.25352603, 0.5]\n",
            "Time for 29 iterations: 133.5346884727478\n",
            "Evaluating model on 30 random 20 way one-shot learning tasks ...\n",
            "Got an average of 96.66666666666667% 20 way one-shot learning accuracy\n",
            "iteration 29, training loss: [0.25352603, 0.5],\n",
            "[0.24346754, 0.5]\n",
            "Time for 30 iterations: 138.08378171920776\n",
            "Evaluating model on 30 random 20 way one-shot learning tasks ...\n",
            "Got an average of 100.0% 20 way one-shot learning accuracy\n",
            "Saving weights to: ./drive/My Drive/checkpointed_weights.hdf5 \n",
            "\n",
            "iteration 30, training loss: [0.24346754, 0.5],\n",
            "[0.24976063, 0.5]\n",
            "Time for 31 iterations: 143.09727001190186\n",
            "Evaluating model on 30 random 20 way one-shot learning tasks ...\n",
            "Got an average of 100.0% 20 way one-shot learning accuracy\n",
            "Saving weights to: ./drive/My Drive/checkpointed_weights.hdf5 \n",
            "\n",
            "iteration 31, training loss: [0.24976063, 0.5],\n",
            "[0.23714861, 0.5]\n",
            "Time for 32 iterations: 147.66029715538025\n",
            "Evaluating model on 30 random 20 way one-shot learning tasks ...\n",
            "Got an average of 100.0% 20 way one-shot learning accuracy\n",
            "Saving weights to: ./drive/My Drive/checkpointed_weights.hdf5 \n",
            "\n",
            "iteration 32, training loss: [0.23714861, 0.5],\n",
            "[0.23204166, 0.5]\n",
            "Time for 33 iterations: 152.1921305656433\n",
            "Evaluating model on 30 random 20 way one-shot learning tasks ...\n",
            "Got an average of 96.66666666666667% 20 way one-shot learning accuracy\n",
            "iteration 33, training loss: [0.23204166, 0.5],\n",
            "[0.23932803, 0.5]\n",
            "Time for 34 iterations: 156.60321164131165\n",
            "Evaluating model on 30 random 20 way one-shot learning tasks ...\n",
            "Got an average of 96.66666666666667% 20 way one-shot learning accuracy\n",
            "iteration 34, training loss: [0.23932803, 0.5],\n",
            "[0.22328098, 0.5]\n",
            "Time for 35 iterations: 161.0553240776062\n",
            "Evaluating model on 30 random 20 way one-shot learning tasks ...\n",
            "Got an average of 93.33333333333333% 20 way one-shot learning accuracy\n",
            "iteration 35, training loss: [0.22328098, 0.5],\n",
            "[0.2304054, 0.5]\n",
            "Time for 36 iterations: 165.51628875732422\n",
            "Evaluating model on 30 random 20 way one-shot learning tasks ...\n",
            "Got an average of 100.0% 20 way one-shot learning accuracy\n",
            "Saving weights to: ./drive/My Drive/checkpointed_weights.hdf5 \n",
            "\n",
            "iteration 36, training loss: [0.2304054, 0.5],\n",
            "[0.23664066, 0.5]\n",
            "Time for 37 iterations: 170.56965708732605\n",
            "Evaluating model on 30 random 20 way one-shot learning tasks ...\n",
            "Got an average of 93.33333333333333% 20 way one-shot learning accuracy\n",
            "iteration 37, training loss: [0.23664066, 0.5],\n",
            "[0.25068802, 0.5]\n",
            "Time for 38 iterations: 175.0747263431549\n",
            "Evaluating model on 30 random 20 way one-shot learning tasks ...\n",
            "Got an average of 93.33333333333333% 20 way one-shot learning accuracy\n",
            "iteration 38, training loss: [0.25068802, 0.5],\n",
            "[0.24394304, 0.5]\n",
            "Time for 39 iterations: 179.5615472793579\n",
            "Evaluating model on 30 random 20 way one-shot learning tasks ...\n",
            "Got an average of 100.0% 20 way one-shot learning accuracy\n",
            "Saving weights to: ./drive/My Drive/checkpointed_weights.hdf5 \n",
            "\n",
            "iteration 39, training loss: [0.24394304, 0.5],\n",
            "[0.22860092, 0.5]\n",
            "Time for 40 iterations: 184.6716275215149\n",
            "Evaluating model on 30 random 20 way one-shot learning tasks ...\n",
            "Got an average of 96.66666666666667% 20 way one-shot learning accuracy\n",
            "iteration 40, training loss: [0.22860092, 0.5],\n",
            "[0.24663293, 0.5]\n",
            "Time for 41 iterations: 189.21682167053223\n",
            "Evaluating model on 30 random 20 way one-shot learning tasks ...\n",
            "Got an average of 100.0% 20 way one-shot learning accuracy\n",
            "Saving weights to: ./drive/My Drive/checkpointed_weights.hdf5 \n",
            "\n",
            "iteration 41, training loss: [0.24663293, 0.5],\n",
            "[0.23704241, 0.5]\n",
            "Time for 42 iterations: 193.80324625968933\n",
            "Evaluating model on 30 random 20 way one-shot learning tasks ...\n",
            "Got an average of 100.0% 20 way one-shot learning accuracy\n",
            "Saving weights to: ./drive/My Drive/checkpointed_weights.hdf5 \n",
            "\n",
            "iteration 42, training loss: [0.23704241, 0.5],\n",
            "[0.23145357, 0.5]\n",
            "Time for 43 iterations: 198.4375820159912\n",
            "Evaluating model on 30 random 20 way one-shot learning tasks ...\n",
            "Got an average of 96.66666666666667% 20 way one-shot learning accuracy\n",
            "iteration 43, training loss: [0.23145357, 0.5],\n",
            "[0.23343301, 0.5]\n",
            "Time for 44 iterations: 202.86617016792297\n",
            "Evaluating model on 30 random 20 way one-shot learning tasks ...\n",
            "Got an average of 100.0% 20 way one-shot learning accuracy\n",
            "Saving weights to: ./drive/My Drive/checkpointed_weights.hdf5 \n",
            "\n",
            "iteration 44, training loss: [0.23343301, 0.5],\n",
            "[0.23154327, 0.5]\n",
            "Time for 45 iterations: 207.91239595413208\n",
            "Evaluating model on 30 random 20 way one-shot learning tasks ...\n",
            "Got an average of 96.66666666666667% 20 way one-shot learning accuracy\n",
            "iteration 45, training loss: [0.23154327, 0.5],\n",
            "[0.24319044, 0.5]\n",
            "Time for 46 iterations: 212.34663581848145\n",
            "Evaluating model on 30 random 20 way one-shot learning tasks ...\n",
            "Got an average of 100.0% 20 way one-shot learning accuracy\n",
            "Saving weights to: ./drive/My Drive/checkpointed_weights.hdf5 \n",
            "\n",
            "iteration 46, training loss: [0.24319044, 0.5],\n",
            "[0.21817204, 0.5]\n",
            "Time for 47 iterations: 216.95595288276672\n",
            "Evaluating model on 30 random 20 way one-shot learning tasks ...\n",
            "Got an average of 96.66666666666667% 20 way one-shot learning accuracy\n",
            "iteration 47, training loss: [0.21817204, 0.5],\n",
            "[0.2470653, 0.5]\n",
            "Time for 48 iterations: 221.4434905052185\n",
            "Evaluating model on 30 random 20 way one-shot learning tasks ...\n",
            "Got an average of 100.0% 20 way one-shot learning accuracy\n",
            "Saving weights to: ./drive/My Drive/checkpointed_weights.hdf5 \n",
            "\n",
            "iteration 48, training loss: [0.2470653, 0.5],\n",
            "[0.22387451, 0.5]\n",
            "Time for 49 iterations: 226.5184988975525\n",
            "Evaluating model on 30 random 20 way one-shot learning tasks ...\n",
            "Got an average of 96.66666666666667% 20 way one-shot learning accuracy\n",
            "iteration 49, training loss: [0.22387451, 0.5],\n",
            "[0.2265864, 0.5]\n",
            "Time for 50 iterations: 231.00310111045837\n",
            "Evaluating model on 30 random 20 way one-shot learning tasks ...\n",
            "Got an average of 100.0% 20 way one-shot learning accuracy\n",
            "Saving weights to: ./drive/My Drive/checkpointed_weights.hdf5 \n",
            "\n",
            "iteration 50, training loss: [0.2265864, 0.5],\n",
            "[0.23383722, 0.5]\n",
            "Time for 51 iterations: 235.54349970817566\n",
            "Evaluating model on 30 random 20 way one-shot learning tasks ...\n",
            "Got an average of 100.0% 20 way one-shot learning accuracy\n",
            "Saving weights to: ./drive/My Drive/checkpointed_weights.hdf5 \n",
            "\n",
            "iteration 51, training loss: [0.23383722, 0.5],\n",
            "[0.23323213, 0.5]\n",
            "Time for 52 iterations: 240.1074025630951\n",
            "Evaluating model on 30 random 20 way one-shot learning tasks ...\n",
            "Got an average of 100.0% 20 way one-shot learning accuracy\n",
            "Saving weights to: ./drive/My Drive/checkpointed_weights.hdf5 \n",
            "\n",
            "iteration 52, training loss: [0.23323213, 0.5],\n",
            "[0.22477576, 0.5]\n",
            "Time for 53 iterations: 244.66964316368103\n",
            "Evaluating model on 30 random 20 way one-shot learning tasks ...\n",
            "Got an average of 96.66666666666667% 20 way one-shot learning accuracy\n",
            "iteration 53, training loss: [0.22477576, 0.5],\n",
            "[0.24115941, 0.5]\n",
            "Time for 54 iterations: 249.10033249855042\n",
            "Evaluating model on 30 random 20 way one-shot learning tasks ...\n",
            "Got an average of 100.0% 20 way one-shot learning accuracy\n",
            "Saving weights to: ./drive/My Drive/checkpointed_weights.hdf5 \n",
            "\n",
            "iteration 54, training loss: [0.24115941, 0.5],\n",
            "[0.2242238, 0.5]\n",
            "Time for 55 iterations: 254.21642136573792\n",
            "Evaluating model on 30 random 20 way one-shot learning tasks ...\n",
            "Got an average of 93.33333333333333% 20 way one-shot learning accuracy\n",
            "iteration 55, training loss: [0.2242238, 0.5],\n",
            "[0.22551408, 0.5]\n",
            "Time for 56 iterations: 258.6829137802124\n",
            "Evaluating model on 30 random 20 way one-shot learning tasks ...\n",
            "Got an average of 100.0% 20 way one-shot learning accuracy\n",
            "Saving weights to: ./drive/My Drive/checkpointed_weights.hdf5 \n",
            "\n",
            "iteration 56, training loss: [0.22551408, 0.5],\n",
            "[0.23086831, 0.5]\n",
            "Time for 57 iterations: 263.25600600242615\n",
            "Evaluating model on 30 random 20 way one-shot learning tasks ...\n",
            "Got an average of 100.0% 20 way one-shot learning accuracy\n",
            "Saving weights to: ./drive/My Drive/checkpointed_weights.hdf5 \n",
            "\n",
            "iteration 57, training loss: [0.23086831, 0.5],\n",
            "[0.2369897, 0.5]\n",
            "Time for 58 iterations: 267.88735818862915\n",
            "Evaluating model on 30 random 20 way one-shot learning tasks ...\n",
            "Got an average of 100.0% 20 way one-shot learning accuracy\n",
            "Saving weights to: ./drive/My Drive/checkpointed_weights.hdf5 \n",
            "\n",
            "iteration 58, training loss: [0.2369897, 0.5],\n",
            "[0.21823262, 0.5]\n",
            "Time for 59 iterations: 272.6215467453003\n",
            "Evaluating model on 30 random 20 way one-shot learning tasks ...\n",
            "Got an average of 100.0% 20 way one-shot learning accuracy\n",
            "Saving weights to: ./drive/My Drive/checkpointed_weights.hdf5 \n",
            "\n",
            "iteration 59, training loss: [0.21823262, 0.5],\n",
            "[0.23779863, 0.5]\n",
            "Time for 60 iterations: 277.2565608024597\n",
            "Evaluating model on 30 random 20 way one-shot learning tasks ...\n",
            "Got an average of 100.0% 20 way one-shot learning accuracy\n",
            "Saving weights to: ./drive/My Drive/checkpointed_weights.hdf5 \n",
            "\n",
            "iteration 60, training loss: [0.23779863, 0.5],\n",
            "[0.23336312, 0.5]\n",
            "Time for 61 iterations: 281.7965693473816\n",
            "Evaluating model on 30 random 20 way one-shot learning tasks ...\n",
            "Got an average of 93.33333333333333% 20 way one-shot learning accuracy\n",
            "iteration 61, training loss: [0.23336312, 0.5],\n",
            "[0.21503788, 0.5]\n",
            "Time for 62 iterations: 286.26354146003723\n",
            "Evaluating model on 30 random 20 way one-shot learning tasks ...\n",
            "Got an average of 96.66666666666667% 20 way one-shot learning accuracy\n",
            "iteration 62, training loss: [0.21503788, 0.5],\n",
            "[0.24044254, 0.5]\n",
            "Time for 63 iterations: 290.785208940506\n",
            "Evaluating model on 30 random 20 way one-shot learning tasks ...\n",
            "Got an average of 100.0% 20 way one-shot learning accuracy\n",
            "Saving weights to: ./drive/My Drive/checkpointed_weights.hdf5 \n",
            "\n",
            "iteration 63, training loss: [0.24044254, 0.5],\n",
            "[0.23228778, 0.5]\n",
            "Time for 64 iterations: 295.7265086174011\n",
            "Evaluating model on 30 random 20 way one-shot learning tasks ...\n",
            "Got an average of 100.0% 20 way one-shot learning accuracy\n",
            "Saving weights to: ./drive/My Drive/checkpointed_weights.hdf5 \n",
            "\n",
            "iteration 64, training loss: [0.23228778, 0.5],\n",
            "[0.22709261, 0.5]\n",
            "Time for 65 iterations: 300.3070025444031\n",
            "Evaluating model on 30 random 20 way one-shot learning tasks ...\n",
            "Got an average of 100.0% 20 way one-shot learning accuracy\n",
            "Saving weights to: ./drive/My Drive/checkpointed_weights.hdf5 \n",
            "\n",
            "iteration 65, training loss: [0.22709261, 0.5],\n",
            "[0.22088014, 0.5]\n",
            "Time for 66 iterations: 304.9403340816498\n",
            "Evaluating model on 30 random 20 way one-shot learning tasks ...\n",
            "Got an average of 100.0% 20 way one-shot learning accuracy\n",
            "Saving weights to: ./drive/My Drive/checkpointed_weights.hdf5 \n",
            "\n",
            "iteration 66, training loss: [0.22088014, 0.5],\n",
            "[0.21575615, 0.5]\n",
            "Time for 67 iterations: 309.5372304916382\n",
            "Evaluating model on 30 random 20 way one-shot learning tasks ...\n",
            "Got an average of 96.66666666666667% 20 way one-shot learning accuracy\n",
            "iteration 67, training loss: [0.21575615, 0.5],\n",
            "[0.22813949, 0.5]\n",
            "Time for 68 iterations: 314.030597448349\n",
            "Evaluating model on 30 random 20 way one-shot learning tasks ...\n",
            "Got an average of 100.0% 20 way one-shot learning accuracy\n",
            "Saving weights to: ./drive/My Drive/checkpointed_weights.hdf5 \n",
            "\n",
            "iteration 68, training loss: [0.22813949, 0.5],\n",
            "[0.2346392, 0.5]\n",
            "Time for 69 iterations: 319.1331903934479\n",
            "Evaluating model on 30 random 20 way one-shot learning tasks ...\n",
            "Got an average of 96.66666666666667% 20 way one-shot learning accuracy\n",
            "iteration 69, training loss: [0.2346392, 0.5],\n",
            "[0.22504488, 0.5]\n",
            "Time for 70 iterations: 323.6385073661804\n",
            "Evaluating model on 30 random 20 way one-shot learning tasks ...\n",
            "Got an average of 96.66666666666667% 20 way one-shot learning accuracy\n",
            "iteration 70, training loss: [0.22504488, 0.5],\n",
            "[0.22097892, 0.5]\n",
            "Time for 71 iterations: 328.04445934295654\n",
            "Evaluating model on 30 random 20 way one-shot learning tasks ...\n",
            "Got an average of 100.0% 20 way one-shot learning accuracy\n",
            "Saving weights to: ./drive/My Drive/checkpointed_weights.hdf5 \n",
            "\n",
            "iteration 71, training loss: [0.22097892, 0.5],\n",
            "[0.21917343, 0.5]\n",
            "Time for 72 iterations: 332.9703207015991\n",
            "Evaluating model on 30 random 20 way one-shot learning tasks ...\n",
            "Got an average of 100.0% 20 way one-shot learning accuracy\n",
            "Saving weights to: ./drive/My Drive/checkpointed_weights.hdf5 \n",
            "\n",
            "iteration 72, training loss: [0.21917343, 0.5],\n",
            "[0.22759831, 0.5]\n",
            "Time for 73 iterations: 337.5215570926666\n",
            "Evaluating model on 30 random 20 way one-shot learning tasks ...\n",
            "Got an average of 96.66666666666667% 20 way one-shot learning accuracy\n",
            "iteration 73, training loss: [0.22759831, 0.5],\n",
            "[0.21692154, 0.5]\n",
            "Time for 74 iterations: 341.885023355484\n",
            "Evaluating model on 30 random 20 way one-shot learning tasks ...\n",
            "Got an average of 96.66666666666667% 20 way one-shot learning accuracy\n",
            "iteration 74, training loss: [0.21692154, 0.5],\n",
            "[0.21223852, 0.5]\n",
            "Time for 75 iterations: 346.37071657180786\n",
            "Evaluating model on 30 random 20 way one-shot learning tasks ...\n",
            "Got an average of 100.0% 20 way one-shot learning accuracy\n",
            "Saving weights to: ./drive/My Drive/checkpointed_weights.hdf5 \n",
            "\n",
            "iteration 75, training loss: [0.21223852, 0.5],\n",
            "[0.2304891, 0.5]\n",
            "Time for 76 iterations: 351.3082649707794\n",
            "Evaluating model on 30 random 20 way one-shot learning tasks ...\n",
            "Got an average of 96.66666666666667% 20 way one-shot learning accuracy\n",
            "iteration 76, training loss: [0.2304891, 0.5],\n",
            "[0.23247512, 0.5]\n",
            "Time for 77 iterations: 355.7099621295929\n",
            "Evaluating model on 30 random 20 way one-shot learning tasks ...\n",
            "Got an average of 100.0% 20 way one-shot learning accuracy\n",
            "Saving weights to: ./drive/My Drive/checkpointed_weights.hdf5 \n",
            "\n",
            "iteration 77, training loss: [0.23247512, 0.5],\n",
            "[0.22935605, 0.5]\n",
            "Time for 78 iterations: 360.25833916664124\n",
            "Evaluating model on 30 random 20 way one-shot learning tasks ...\n",
            "Got an average of 96.66666666666667% 20 way one-shot learning accuracy\n",
            "iteration 78, training loss: [0.22935605, 0.5],\n",
            "[0.2230449, 0.5]\n",
            "Time for 79 iterations: 364.69209694862366\n",
            "Evaluating model on 30 random 20 way one-shot learning tasks ...\n",
            "Got an average of 100.0% 20 way one-shot learning accuracy\n",
            "Saving weights to: ./drive/My Drive/checkpointed_weights.hdf5 \n",
            "\n",
            "iteration 79, training loss: [0.2230449, 0.5],\n",
            "[0.22021335, 0.5]\n",
            "Time for 80 iterations: 369.65789556503296\n",
            "Evaluating model on 30 random 20 way one-shot learning tasks ...\n",
            "Got an average of 100.0% 20 way one-shot learning accuracy\n",
            "Saving weights to: ./drive/My Drive/checkpointed_weights.hdf5 \n",
            "\n",
            "iteration 80, training loss: [0.22021335, 0.5],\n",
            "[0.20810801, 0.5]\n",
            "Time for 81 iterations: 374.1559863090515\n",
            "Evaluating model on 30 random 20 way one-shot learning tasks ...\n",
            "Got an average of 100.0% 20 way one-shot learning accuracy\n",
            "Saving weights to: ./drive/My Drive/checkpointed_weights.hdf5 \n",
            "\n",
            "iteration 81, training loss: [0.20810801, 0.5],\n",
            "[0.24411555, 0.5]\n",
            "Time for 82 iterations: 378.70991492271423\n",
            "Evaluating model on 30 random 20 way one-shot learning tasks ...\n",
            "Got an average of 100.0% 20 way one-shot learning accuracy\n",
            "Saving weights to: ./drive/My Drive/checkpointed_weights.hdf5 \n",
            "\n",
            "iteration 82, training loss: [0.24411555, 0.5],\n",
            "[0.22564998, 0.5]\n",
            "Time for 83 iterations: 383.2590320110321\n",
            "Evaluating model on 30 random 20 way one-shot learning tasks ...\n",
            "Got an average of 100.0% 20 way one-shot learning accuracy\n",
            "Saving weights to: ./drive/My Drive/checkpointed_weights.hdf5 \n",
            "\n",
            "iteration 83, training loss: [0.22564998, 0.5],\n",
            "[0.22544816, 0.5]\n",
            "Time for 84 iterations: 387.90937209129333\n",
            "Evaluating model on 30 random 20 way one-shot learning tasks ...\n",
            "Got an average of 100.0% 20 way one-shot learning accuracy\n",
            "Saving weights to: ./drive/My Drive/checkpointed_weights.hdf5 \n",
            "\n",
            "iteration 84, training loss: [0.22544816, 0.5],\n",
            "[0.21793434, 0.5]\n",
            "Time for 85 iterations: 392.5954177379608\n",
            "Evaluating model on 30 random 20 way one-shot learning tasks ...\n",
            "Got an average of 93.33333333333333% 20 way one-shot learning accuracy\n",
            "iteration 85, training loss: [0.21793434, 0.5],\n",
            "[0.2254263, 0.5]\n",
            "Time for 86 iterations: 397.0581901073456\n",
            "Evaluating model on 30 random 20 way one-shot learning tasks ...\n",
            "Got an average of 100.0% 20 way one-shot learning accuracy\n",
            "Saving weights to: ./drive/My Drive/checkpointed_weights.hdf5 \n",
            "\n",
            "iteration 86, training loss: [0.2254263, 0.5],\n",
            "[0.21078765, 0.5]\n",
            "Time for 87 iterations: 402.0437231063843\n",
            "Evaluating model on 30 random 20 way one-shot learning tasks ...\n",
            "Got an average of 96.66666666666667% 20 way one-shot learning accuracy\n",
            "iteration 87, training loss: [0.21078765, 0.5],\n",
            "[0.22767748, 0.5]\n",
            "Time for 88 iterations: 406.4796373844147\n",
            "Evaluating model on 30 random 20 way one-shot learning tasks ...\n",
            "Got an average of 100.0% 20 way one-shot learning accuracy\n",
            "Saving weights to: ./drive/My Drive/checkpointed_weights.hdf5 \n",
            "\n",
            "iteration 88, training loss: [0.22767748, 0.5],\n",
            "[0.21626195, 0.5]\n",
            "Time for 89 iterations: 411.1650776863098\n",
            "Evaluating model on 30 random 20 way one-shot learning tasks ...\n",
            "Got an average of 93.33333333333333% 20 way one-shot learning accuracy\n",
            "iteration 89, training loss: [0.21626195, 0.5],\n",
            "[0.2140187, 0.5]\n",
            "Time for 90 iterations: 415.5588467121124\n",
            "Evaluating model on 30 random 20 way one-shot learning tasks ...\n",
            "Got an average of 100.0% 20 way one-shot learning accuracy\n",
            "Saving weights to: ./drive/My Drive/checkpointed_weights.hdf5 \n",
            "\n",
            "iteration 90, training loss: [0.2140187, 0.5],\n",
            "[0.22102895, 0.5]\n",
            "Time for 91 iterations: 420.616623878479\n",
            "Evaluating model on 30 random 20 way one-shot learning tasks ...\n",
            "Got an average of 100.0% 20 way one-shot learning accuracy\n",
            "Saving weights to: ./drive/My Drive/checkpointed_weights.hdf5 \n",
            "\n",
            "iteration 91, training loss: [0.22102895, 0.5],\n",
            "[0.20714414, 0.5]\n",
            "Time for 92 iterations: 425.1583569049835\n",
            "Evaluating model on 30 random 20 way one-shot learning tasks ...\n",
            "Got an average of 96.66666666666667% 20 way one-shot learning accuracy\n",
            "iteration 92, training loss: [0.20714414, 0.5],\n",
            "[0.21402813, 0.5]\n",
            "Time for 93 iterations: 429.5746681690216\n",
            "Evaluating model on 30 random 20 way one-shot learning tasks ...\n",
            "Got an average of 96.66666666666667% 20 way one-shot learning accuracy\n",
            "iteration 93, training loss: [0.21402813, 0.5],\n",
            "[0.23039132, 0.5]\n",
            "Time for 94 iterations: 434.05846214294434\n",
            "Evaluating model on 30 random 20 way one-shot learning tasks ...\n",
            "Got an average of 100.0% 20 way one-shot learning accuracy\n",
            "Saving weights to: ./drive/My Drive/checkpointed_weights.hdf5 \n",
            "\n",
            "iteration 94, training loss: [0.23039132, 0.5],\n",
            "[0.21812999, 0.5]\n",
            "Time for 95 iterations: 439.0496897697449\n",
            "Evaluating model on 30 random 20 way one-shot learning tasks ...\n",
            "Got an average of 100.0% 20 way one-shot learning accuracy\n",
            "Saving weights to: ./drive/My Drive/checkpointed_weights.hdf5 \n",
            "\n",
            "iteration 95, training loss: [0.21812999, 0.5],\n",
            "[0.21127173, 0.5]\n",
            "Time for 96 iterations: 443.6446990966797\n",
            "Evaluating model on 30 random 20 way one-shot learning tasks ...\n",
            "Got an average of 90.0% 20 way one-shot learning accuracy\n",
            "iteration 96, training loss: [0.21127173, 0.5],\n",
            "[0.2126115, 0.5]\n",
            "Time for 97 iterations: 448.033714056015\n",
            "Evaluating model on 30 random 20 way one-shot learning tasks ...\n",
            "Got an average of 100.0% 20 way one-shot learning accuracy\n",
            "Saving weights to: ./drive/My Drive/checkpointed_weights.hdf5 \n",
            "\n",
            "iteration 97, training loss: [0.2126115, 0.5],\n",
            "[0.22681636, 0.5]\n",
            "Time for 98 iterations: 453.1570746898651\n",
            "Evaluating model on 30 random 20 way one-shot learning tasks ...\n",
            "Got an average of 100.0% 20 way one-shot learning accuracy\n",
            "Saving weights to: ./drive/My Drive/checkpointed_weights.hdf5 \n",
            "\n",
            "iteration 98, training loss: [0.22681636, 0.5],\n",
            "[0.2185696, 0.5]\n",
            "Time for 99 iterations: 457.7151529788971\n",
            "Evaluating model on 30 random 20 way one-shot learning tasks ...\n",
            "Got an average of 100.0% 20 way one-shot learning accuracy\n",
            "Saving weights to: ./drive/My Drive/checkpointed_weights.hdf5 \n",
            "\n",
            "iteration 99, training loss: [0.2185696, 0.5],\n"
          ],
          "name": "stdout"
        }
      ]
    },
    {
      "cell_type": "code",
      "metadata": {
        "id": "qO31ZL27dXn2",
        "colab_type": "code",
        "colab": {
          "base_uri": "https://localhost:8080/",
          "height": 411
        },
        "outputId": "10ae61ca-fcdb-4f54-a3e5-209d06300f34"
      },
      "source": [
        "\n",
        "siamese.load_weights(CHECKPOINTED_WEIGHTS)\n",
        "for layer in siamese.layers:\n",
        "    layer.trainable = False\n",
        "siamese.summary()\n",
        "siamese.save(model_save_path)"
      ],
      "execution_count": 23,
      "outputs": [
        {
          "output_type": "stream",
          "text": [
            "Model: \"model_1\"\n",
            "__________________________________________________________________________________________________\n",
            "Layer (type)                    Output Shape         Param #     Connected to                     \n",
            "==================================================================================================\n",
            "input_1 (InputLayer)            (None, 1, 105, 105)  0                                            \n",
            "__________________________________________________________________________________________________\n",
            "input_2 (InputLayer)            (None, 1, 105, 105)  0                                            \n",
            "__________________________________________________________________________________________________\n",
            "sequential_1 (Sequential)       (None, 50)           1850174     input_1[0][0]                    \n",
            "                                                                 input_2[0][0]                    \n",
            "__________________________________________________________________________________________________\n",
            "lambda_1 (Lambda)               (None, 1)            0           sequential_1[1][0]               \n",
            "                                                                 sequential_1[2][0]               \n",
            "__________________________________________________________________________________________________\n",
            "dense_3 (Dense)                 (None, 1)            2           lambda_1[0][0]                   \n",
            "==================================================================================================\n",
            "Total params: 3,700,352\n",
            "Trainable params: 1,850,176\n",
            "Non-trainable params: 1,850,176\n",
            "__________________________________________________________________________________________________\n"
          ],
          "name": "stdout"
        },
        {
          "output_type": "stream",
          "text": [
            "/usr/local/lib/python3.6/dist-packages/keras/engine/training.py:493: UserWarning: Discrepancy between trainable weights and collected trainable weights, did you set `model.trainable` without calling `model.compile` after ?\n",
            "  'Discrepancy between trainable weights and collected trainable'\n"
          ],
          "name": "stderr"
        }
      ]
    },
    {
      "cell_type": "code",
      "metadata": {
        "id": "sQZrM3A7ikuS",
        "colab_type": "code",
        "colab": {
          "base_uri": "https://localhost:8080/",
          "height": 71
        },
        "outputId": "a482a0a9-7f1a-483f-9919-07f2ca712fe2"
      },
      "source": [
        "import keras.losses\n",
        "# keras.losses.custom_loss = \n",
        "from keras.utils.generic_utils import get_custom_objects\n",
        "from keras.models import load_model\n",
        "siamese_net = load_model(model_save_path, custom_objects={'contrastive_loss': contrastive_loss})\n",
        "siamese_net.compile(loss=contrastive_loss, optimizer='adam', metrics=[acc])"
      ],
      "execution_count": 26,
      "outputs": [
        {
          "output_type": "stream",
          "text": [
            "/usr/local/lib/python3.6/dist-packages/keras/engine/saving.py:350: UserWarning: Error in loading the saved optimizer state. As a result, your model is starting with a freshly initialized optimizer.\n",
            "  warnings.warn('Error in loading the saved optimizer '\n"
          ],
          "name": "stderr"
        }
      ]
    },
    {
      "cell_type": "code",
      "metadata": {
        "id": "moijSov1nDCf",
        "colab_type": "code",
        "colab": {
          "base_uri": "https://localhost:8080/",
          "height": 1000
        },
        "outputId": "7207c48d-2ded-4583-93d7-4e652108d8d6"
      },
      "source": [
        "def nearest_neighbour_correct(pairs,targets):\n",
        "    \"\"\"returns 1 if nearest neighbour gets the correct answer for a one-shot task\n",
        "        given by (pairs, targets)\"\"\"\n",
        "    L2_distances = np.zeros_like(targets)\n",
        "    for i in range(len(targets)):\n",
        "        L2_distances[i] = np.sum(np.sqrt(pairs[0][i]**2 - pairs[1][i]**2))\n",
        "    if np.argmin(L2_distances) == np.argmax(targets):\n",
        "        return 1\n",
        "    return 0\n",
        "\n",
        "\n",
        "def test_nn_accuracy(N_ways,n_trials):\n",
        "    \"\"\"Returns accuracy of one shot \"\"\"\n",
        "    print(\"Evaluating nearest neighbour on {} unique {} way one-shot learning tasks ...\".format(n_trials,N_ways))\n",
        "\n",
        "    n_right = 0\n",
        "    \n",
        "    for i in range(n_trials):\n",
        "        pairs,targets = make_oneshot_task(N_ways,x_test)\n",
        "        correct = nearest_neighbour_correct(pairs,targets)\n",
        "        n_right += correct\n",
        "    return 100.0 * n_right / n_trials\n",
        "\n",
        "\n",
        "ways = np.arange(1, 30, 2)\n",
        "resume =  False\n",
        "val_accs, train_accs,nn_accs = [], [], []\n",
        "trials = 1000\n",
        "for N in ways:\n",
        "    val_accs.append(test_oneshot(siamese_net, N,trials, y_test, verbose=True))\n",
        "    train_accs.append(test_oneshot(siamese_net, N,trials, x_test, verbose=True))\n",
        "    nn_acc=test_nn_accuracy(N,trials)\n",
        "    nn_accs.append(nn_acc)\n",
        "    print(\"----------------------------------------------------------------------------------------------------------------------------------------------------\")\n",
        "# #plot the accuracy vs num categories for each\n",
        "# plt.plot(ways, val_accs, \"m\")\n",
        "# plt.plot(ways, train_accs, \"y\")\n",
        "# plt.plot(ways, nn_accs, \"c\")\n",
        "\n",
        "# plt.plot(ways,100.0/ways,\"r\")\n",
        "# plt.show()\n"
      ],
      "execution_count": 38,
      "outputs": [
        {
          "output_type": "stream",
          "text": [
            "Evaluating model on 1000 random 1 way one-shot learning tasks ...\n",
            "Got an average of 100.0% 1 way one-shot learning accuracy\n",
            "Evaluating model on 1000 random 1 way one-shot learning tasks ...\n",
            "Got an average of 100.0% 1 way one-shot learning accuracy\n",
            "Evaluating nearest neighbour on 1000 unique 1 way one-shot learning tasks ...\n",
            "----------------------------------------------------------------------------------------------------------------------------------------------------\n",
            "Evaluating model on 1000 random 3 way one-shot learning tasks ...\n",
            "Got an average of 99.7% 3 way one-shot learning accuracy\n",
            "Evaluating model on 1000 random 3 way one-shot learning tasks ...\n",
            "Got an average of 100.0% 3 way one-shot learning accuracy\n",
            "Evaluating nearest neighbour on 1000 unique 3 way one-shot learning tasks ...\n"
          ],
          "name": "stdout"
        },
        {
          "output_type": "stream",
          "text": [
            "/usr/local/lib/python3.6/dist-packages/ipykernel_launcher.py:6: RuntimeWarning: invalid value encountered in sqrt\n",
            "  \n"
          ],
          "name": "stderr"
        },
        {
          "output_type": "stream",
          "text": [
            "----------------------------------------------------------------------------------------------------------------------------------------------------\n",
            "Evaluating model on 1000 random 5 way one-shot learning tasks ...\n",
            "Got an average of 99.5% 5 way one-shot learning accuracy\n",
            "Evaluating model on 1000 random 5 way one-shot learning tasks ...\n",
            "Got an average of 99.1% 5 way one-shot learning accuracy\n",
            "Evaluating nearest neighbour on 1000 unique 5 way one-shot learning tasks ...\n",
            "----------------------------------------------------------------------------------------------------------------------------------------------------\n",
            "Evaluating model on 1000 random 7 way one-shot learning tasks ...\n",
            "Got an average of 99.5% 7 way one-shot learning accuracy\n",
            "Evaluating model on 1000 random 7 way one-shot learning tasks ...\n",
            "Got an average of 98.7% 7 way one-shot learning accuracy\n",
            "Evaluating nearest neighbour on 1000 unique 7 way one-shot learning tasks ...\n",
            "----------------------------------------------------------------------------------------------------------------------------------------------------\n",
            "Evaluating model on 1000 random 9 way one-shot learning tasks ...\n",
            "Got an average of 99.3% 9 way one-shot learning accuracy\n",
            "Evaluating model on 1000 random 9 way one-shot learning tasks ...\n",
            "Got an average of 99.4% 9 way one-shot learning accuracy\n",
            "Evaluating nearest neighbour on 1000 unique 9 way one-shot learning tasks ...\n",
            "----------------------------------------------------------------------------------------------------------------------------------------------------\n",
            "Evaluating model on 1000 random 11 way one-shot learning tasks ...\n",
            "Got an average of 99.3% 11 way one-shot learning accuracy\n",
            "Evaluating model on 1000 random 11 way one-shot learning tasks ...\n",
            "Got an average of 98.9% 11 way one-shot learning accuracy\n",
            "Evaluating nearest neighbour on 1000 unique 11 way one-shot learning tasks ...\n",
            "----------------------------------------------------------------------------------------------------------------------------------------------------\n",
            "Evaluating model on 1000 random 13 way one-shot learning tasks ...\n",
            "Got an average of 99.2% 13 way one-shot learning accuracy\n",
            "Evaluating model on 1000 random 13 way one-shot learning tasks ...\n",
            "Got an average of 98.4% 13 way one-shot learning accuracy\n",
            "Evaluating nearest neighbour on 1000 unique 13 way one-shot learning tasks ...\n",
            "----------------------------------------------------------------------------------------------------------------------------------------------------\n",
            "Evaluating model on 1000 random 15 way one-shot learning tasks ...\n",
            "Got an average of 99.1% 15 way one-shot learning accuracy\n",
            "Evaluating model on 1000 random 15 way one-shot learning tasks ...\n",
            "Got an average of 98.7% 15 way one-shot learning accuracy\n",
            "Evaluating nearest neighbour on 1000 unique 15 way one-shot learning tasks ...\n",
            "----------------------------------------------------------------------------------------------------------------------------------------------------\n",
            "Evaluating model on 1000 random 17 way one-shot learning tasks ...\n",
            "Got an average of 97.8% 17 way one-shot learning accuracy\n",
            "Evaluating model on 1000 random 17 way one-shot learning tasks ...\n",
            "Got an average of 97.5% 17 way one-shot learning accuracy\n",
            "Evaluating nearest neighbour on 1000 unique 17 way one-shot learning tasks ...\n",
            "----------------------------------------------------------------------------------------------------------------------------------------------------\n",
            "Evaluating model on 1000 random 19 way one-shot learning tasks ...\n",
            "Got an average of 97.0% 19 way one-shot learning accuracy\n",
            "Evaluating model on 1000 random 19 way one-shot learning tasks ...\n",
            "Got an average of 98.9% 19 way one-shot learning accuracy\n",
            "Evaluating nearest neighbour on 1000 unique 19 way one-shot learning tasks ...\n",
            "----------------------------------------------------------------------------------------------------------------------------------------------------\n",
            "Evaluating model on 1000 random 21 way one-shot learning tasks ...\n",
            "Got an average of 98.2% 21 way one-shot learning accuracy\n",
            "Evaluating model on 1000 random 21 way one-shot learning tasks ...\n",
            "Got an average of 97.8% 21 way one-shot learning accuracy\n",
            "Evaluating nearest neighbour on 1000 unique 21 way one-shot learning tasks ...\n",
            "----------------------------------------------------------------------------------------------------------------------------------------------------\n",
            "Evaluating model on 1000 random 23 way one-shot learning tasks ...\n",
            "Got an average of 97.3% 23 way one-shot learning accuracy\n",
            "Evaluating model on 1000 random 23 way one-shot learning tasks ...\n",
            "Got an average of 96.9% 23 way one-shot learning accuracy\n",
            "Evaluating nearest neighbour on 1000 unique 23 way one-shot learning tasks ...\n",
            "----------------------------------------------------------------------------------------------------------------------------------------------------\n",
            "Evaluating model on 1000 random 25 way one-shot learning tasks ...\n",
            "Got an average of 97.3% 25 way one-shot learning accuracy\n",
            "Evaluating model on 1000 random 25 way one-shot learning tasks ...\n",
            "Got an average of 96.9% 25 way one-shot learning accuracy\n",
            "Evaluating nearest neighbour on 1000 unique 25 way one-shot learning tasks ...\n",
            "----------------------------------------------------------------------------------------------------------------------------------------------------\n",
            "Evaluating model on 1000 random 27 way one-shot learning tasks ...\n",
            "Got an average of 97.2% 27 way one-shot learning accuracy\n",
            "Evaluating model on 1000 random 27 way one-shot learning tasks ...\n",
            "Got an average of 97.4% 27 way one-shot learning accuracy\n",
            "Evaluating nearest neighbour on 1000 unique 27 way one-shot learning tasks ...\n",
            "----------------------------------------------------------------------------------------------------------------------------------------------------\n",
            "Evaluating model on 1000 random 29 way one-shot learning tasks ...\n",
            "Got an average of 97.5% 29 way one-shot learning accuracy\n",
            "Evaluating model on 1000 random 29 way one-shot learning tasks ...\n",
            "Got an average of 96.3% 29 way one-shot learning accuracy\n",
            "Evaluating nearest neighbour on 1000 unique 29 way one-shot learning tasks ...\n",
            "----------------------------------------------------------------------------------------------------------------------------------------------------\n"
          ],
          "name": "stdout"
        }
      ]
    },
    {
      "cell_type": "code",
      "metadata": {
        "id": "mcdLE6n8RaBX",
        "colab_type": "code",
        "colab": {}
      },
      "source": [
        "with open(os.path.join(root_path,\"accuracies.pickle\"), \"wb\") as f:\n",
        "    pickle.dump((val_accs,train_accs,nn_accs),f)"
      ],
      "execution_count": 0,
      "outputs": []
    },
    {
      "cell_type": "code",
      "metadata": {
        "id": "JCH54nSER13O",
        "colab_type": "code",
        "colab": {}
      },
      "source": [
        "with open(os.path.join(root_path, \"accuracies.pickle\"), \"rb\") as f:\n",
        "    (val_accs, train_accs, nn_accs) = pickle.load(f)"
      ],
      "execution_count": 0,
      "outputs": []
    },
    {
      "cell_type": "code",
      "metadata": {
        "id": "PvVoTzxiwGYm",
        "colab_type": "code",
        "colab": {}
      },
      "source": [
        "def concat_images(X):\n",
        "    \"\"\"Concatenates a bunch of images into a big matrix for plotting purposes.\"\"\"\n",
        "    nc, _, h , w = X.shape\n",
        "    X = X.reshape(nc, h, w)\n",
        "    n = np.ceil(np.sqrt(nc)).astype(\"int8\")\n",
        "    img = np.zeros((n*w,n*h))\n",
        "    x = 0\n",
        "    y = 0\n",
        "    for example in range(nc):\n",
        "        img[x*w:(x+1)*w,y*h:(y+1)*h] = X[example]\n",
        "        y += 1\n",
        "        if y >= n:\n",
        "            y = 0\n",
        "            x += 1\n",
        "    return img"
      ],
      "execution_count": 0,
      "outputs": []
    },
    {
      "cell_type": "code",
      "metadata": {
        "id": "GXOFP0UMwVzl",
        "colab_type": "code",
        "colab": {}
      },
      "source": [
        "def plot_oneshot_task(pairs):\n",
        "    fig,(ax1,ax2) = plt.subplots(nrows=1, ncols=2)\n",
        "    ax1.matshow(pairs[0][0].reshape(105,105), cmap='gray')\n",
        "    img = concat_images(pairs[1])\n",
        "    ax1.get_yaxis().set_visible(False)\n",
        "    ax1.get_xaxis().set_visible(False)\n",
        "    ax2.matshow(img,cmap='gray')\n",
        "    plt.xticks([])\n",
        "    plt.yticks([])\n",
        "    plt.show()"
      ],
      "execution_count": 0,
      "outputs": []
    },
    {
      "cell_type": "code",
      "metadata": {
        "id": "q4c3WvZ6wbUd",
        "colab_type": "code",
        "colab": {
          "base_uri": "https://localhost:8080/",
          "height": 190
        },
        "outputId": "d5a0b0d6-a476-47b7-cedc-2df24ff99ad9"
      },
      "source": [
        "# Example of concat image visualization\n",
        "pairs, targets = make_oneshot_task(10,X)\n",
        "plot_oneshot_task(pairs)"
      ],
      "execution_count": 103,
      "outputs": [
        {
          "output_type": "display_data",
          "data": {
            "image/png": "[encoded data removed]",
            "text/plain": [
              "<Figure size 432x288 with 2 Axes>"
            ]
          },
          "metadata": {
            "tags": []
          }
        }
      ]
    },
    {
      "cell_type": "code",
      "metadata": {
        "id": "8r-vIYSV1ODt",
        "colab_type": "code",
        "colab": {
          "base_uri": "https://localhost:8080/",
          "height": 295
        },
        "outputId": "8a6e2b5b-2b93-4a03-d66c-964c4cd43081"
      },
      "source": [
        "fig,ax = plt.subplots(1)\n",
        "ax.plot(ways, val_accs, \"m\", label=\"Siamese(val set)\")\n",
        "ax.plot(ways, train_accs, \"y\", label=\"Siamese(train set)\")\n",
        "plt.plot(ways, nn_accs, label=\"Nearest neighbour\")\n",
        "ax.plot(ways, 100.0/ways, \"g\", label=\"Random guessing\")\n",
        "plt.xlabel(\"Number of possible classes in one-shot tasks\")\n",
        "plt.ylabel(\"% Accuracy\")\n",
        "plt.title(\"Transfer Learning on One-Shot Learning Performance of a Siamese Network\")\n",
        "box = ax.get_position()\n",
        "ax.set_position([box.x0, box.y0, box.width * 0.8, box.height])\n",
        "ax.legend(loc='center left', bbox_to_anchor=(1, 0.5))\n",
        "\n",
        "plt.show()\n",
        "\n"
      ],
      "execution_count": 77,
      "outputs": [
        {
          "output_type": "display_data",
          "data": {
            "image/png": "[encoded data removed]",
            "text/plain": [
              "<Figure size 432x288 with 1 Axes>"
            ]
          },
          "metadata": {
            "tags": []
          }
        }
      ]
    },
    {
      "cell_type": "code",
      "metadata": {
        "id": "Vk_yrcNMfbhn",
        "colab_type": "code",
        "colab": {
          "base_uri": "https://localhost:8080/",
          "height": 190
        },
        "outputId": "ac5fe284-6bcc-4b64-c086-a0587281456b"
      },
      "source": [
        "inputs,targets = make_oneshot_task(10, Y)\n",
        "plot_oneshot_task(inputs)"
      ],
      "execution_count": 101,
      "outputs": [
        {
          "output_type": "display_data",
          "data": {
            "image/png": "[encoded data removed]",
            "text/plain": [
              "<Figure size 432x288 with 2 Axes>"
            ]
          },
          "metadata": {
            "tags": []
          }
        }
      ]
    },
    {
      "cell_type": "code",
      "metadata": {
        "colab_type": "code",
        "id": "km5R7GqP2htV",
        "colab": {
          "base_uri": "https://localhost:8080/",
          "height": 204
        },
        "outputId": "6628a934-5d40-4c01-c50e-c6f8c20eabc0"
      },
      "source": [
        "print(inputs[1].shape)\n",
        "p=siamese.predict(inputs)\n",
        "print(p)"
      ],
      "execution_count": 102,
      "outputs": [
        {
          "output_type": "stream",
          "text": [
            "(10, 1, 105, 105)\n",
            "[[0.5013562 ]\n",
            " [0.44722316]\n",
            " [0.4750369 ]\n",
            " [0.447081  ]\n",
            " [0.42968953]\n",
            " [0.47762498]\n",
            " [0.31730753]\n",
            " [0.46248716]\n",
            " [0.27647546]\n",
            " [0.3406664 ]]\n"
          ],
          "name": "stdout"
        }
      ]
    }
  ]
}
